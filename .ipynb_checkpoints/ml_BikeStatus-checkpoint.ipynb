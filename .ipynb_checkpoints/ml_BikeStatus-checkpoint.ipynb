{
 "cells": [
  {
   "cell_type": "code",
   "execution_count": 1,
   "metadata": {
    "slideshow": {
     "slide_type": "subslide"
    }
   },
   "outputs": [],
   "source": [
    "\n",
    "%matplotlib inline\n",
    "import matplotlib.pyplot as plt\n",
    "from matplotlib import style\n",
    "style.use(\"ggplot\")\n",
    "from sklearn.svm import SVC \n",
    "import numpy as np\n",
    "from numpy.random import seed\n",
    "seed(42)\n",
    "import pandas as pd\n",
    "import os\n",
    "import datetime\n",
    "from datetime import datetime, date\n",
    "import sys\n",
    "\n",
    "import time \n",
    "\n",
    "\n",
    "import sklearn\n",
    "from sklearn.datasets import make_regression\n",
    "from sklearn.linear_model import LinearRegression\n",
    "from sklearn.metrics import mean_squared_error, r2_score\n",
    "from sklearn.model_selection import train_test_split\n",
    "from sklearn.linear_model import Lasso\n",
    "from sklearn.linear_model import Ridge\n",
    "from sklearn.linear_model import ElasticNet\n",
    "\n",
    "from mpl_toolkits.mplot3d import Axes3D\n",
    "import warnings\n",
    "warnings.simplefilter('ignore')\n",
    "from sklearn.preprocessing import StandardScaler\n",
    "import sklearn.datasets\n",
    "from sklearn.datasets import make_blobs\n",
    "from sklearn.linear_model import LogisticRegression\n",
    "from sklearn import tree\n",
    "from sklearn.ensemble import RandomForestClassifier\n",
    "from sklearn.datasets import load_iris\n",
    "from sklearn.neighbors import KNeighborsClassifier\n",
    "from sklearn.metrics import classification_report\n",
    "from sklearn.model_selection import GridSearchCV\n",
    "from sklearn.datasets import make_classification\n",
    "from sklearn.preprocessing import LabelEncoder , MinMaxScaler\n",
    "import tensorflow as tf\n",
    "from tensorflow.keras.utils import to_categorical\n",
    "from tensorflow.keras.models import Sequential\n",
    "from tensorflow.keras.layers import Dense\n",
    "from tensorflow.keras.models import load_model\n",
    "from sklearn.datasets.samples_generator import make_blobs\n",
    "from sklearn.cluster import KMeans\n",
    "\n",
    "# data, _ = make_blobs(n_samples=300, centers=4,cluster_std=0.60, random_state=0)\n"
   ]
  },
  {
   "cell_type": "code",
   "execution_count": 2,
   "metadata": {
    "slideshow": {
     "slide_type": "notes"
    }
   },
   "outputs": [
    {
     "data": {
      "text/html": [
       "<div>\n",
       "<style scoped>\n",
       "    .dataframe tbody tr th:only-of-type {\n",
       "        vertical-align: middle;\n",
       "    }\n",
       "\n",
       "    .dataframe tbody tr th {\n",
       "        vertical-align: top;\n",
       "    }\n",
       "\n",
       "    .dataframe thead th {\n",
       "        text-align: right;\n",
       "    }\n",
       "</style>\n",
       "<table border=\"1\" class=\"dataframe\">\n",
       "  <thead>\n",
       "    <tr style=\"text-align: right;\">\n",
       "      <th></th>\n",
       "      <th>station_id</th>\n",
       "      <th>bikes_available</th>\n",
       "      <th>bikes_disabled</th>\n",
       "      <th>docks_available</th>\n",
       "      <th>docks_disabled</th>\n",
       "      <th>time_reported</th>\n",
       "    </tr>\n",
       "  </thead>\n",
       "  <tbody>\n",
       "    <tr>\n",
       "      <td>0</td>\n",
       "      <td>72</td>\n",
       "      <td>20</td>\n",
       "      <td>0</td>\n",
       "      <td>35</td>\n",
       "      <td>0</td>\n",
       "      <td>2020-08-04 23:13:12</td>\n",
       "    </tr>\n",
       "    <tr>\n",
       "      <td>1</td>\n",
       "      <td>79</td>\n",
       "      <td>23</td>\n",
       "      <td>1</td>\n",
       "      <td>9</td>\n",
       "      <td>0</td>\n",
       "      <td>2020-08-04 23:13:25</td>\n",
       "    </tr>\n",
       "    <tr>\n",
       "      <td>2</td>\n",
       "      <td>82</td>\n",
       "      <td>22</td>\n",
       "      <td>3</td>\n",
       "      <td>2</td>\n",
       "      <td>0</td>\n",
       "      <td>2020-08-04 22:32:07</td>\n",
       "    </tr>\n",
       "    <tr>\n",
       "      <td>3</td>\n",
       "      <td>83</td>\n",
       "      <td>44</td>\n",
       "      <td>0</td>\n",
       "      <td>18</td>\n",
       "      <td>0</td>\n",
       "      <td>2020-08-04 23:47:05</td>\n",
       "    </tr>\n",
       "    <tr>\n",
       "      <td>4</td>\n",
       "      <td>116</td>\n",
       "      <td>23</td>\n",
       "      <td>0</td>\n",
       "      <td>27</td>\n",
       "      <td>0</td>\n",
       "      <td>2020-08-04 22:54:06</td>\n",
       "    </tr>\n",
       "  </tbody>\n",
       "</table>\n",
       "</div>"
      ],
      "text/plain": [
       "   station_id  bikes_available  bikes_disabled  docks_available  \\\n",
       "0          72               20               0               35   \n",
       "1          79               23               1                9   \n",
       "2          82               22               3                2   \n",
       "3          83               44               0               18   \n",
       "4         116               23               0               27   \n",
       "\n",
       "   docks_disabled        time_reported  \n",
       "0               0  2020-08-04 23:13:12  \n",
       "1               0  2020-08-04 23:13:25  \n",
       "2               0  2020-08-04 22:32:07  \n",
       "3               0  2020-08-04 23:47:05  \n",
       "4               0  2020-08-04 22:54:06  "
      ]
     },
     "execution_count": 2,
     "metadata": {},
     "output_type": "execute_result"
    }
   ],
   "source": [
    "# Read the csv file into a pandas DataFrame\n",
    "lsd = pd.read_csv('Resources/Data/bikestatus_0805_wed.csv')\n",
    "lsd.head()\n"
   ]
  },
  {
   "cell_type": "code",
   "execution_count": 3,
   "metadata": {
    "slideshow": {
     "slide_type": "subslide"
    }
   },
   "outputs": [
    {
     "data": {
      "text/html": [
       "<div>\n",
       "<style scoped>\n",
       "    .dataframe tbody tr th:only-of-type {\n",
       "        vertical-align: middle;\n",
       "    }\n",
       "\n",
       "    .dataframe tbody tr th {\n",
       "        vertical-align: top;\n",
       "    }\n",
       "\n",
       "    .dataframe thead th {\n",
       "        text-align: right;\n",
       "    }\n",
       "</style>\n",
       "<table border=\"1\" class=\"dataframe\">\n",
       "  <thead>\n",
       "    <tr style=\"text-align: right;\">\n",
       "      <th></th>\n",
       "      <th>station_id</th>\n",
       "      <th>bikes_available</th>\n",
       "      <th>bikes_disabled</th>\n",
       "      <th>docks_available</th>\n",
       "      <th>docks_disabled</th>\n",
       "      <th>time_reported</th>\n",
       "      <th>date_n_time</th>\n",
       "    </tr>\n",
       "  </thead>\n",
       "  <tbody>\n",
       "    <tr>\n",
       "      <td>0</td>\n",
       "      <td>72</td>\n",
       "      <td>20</td>\n",
       "      <td>0</td>\n",
       "      <td>35</td>\n",
       "      <td>0</td>\n",
       "      <td>2020-08-04 23:13:12</td>\n",
       "      <td>2020-08-04 23:13:12</td>\n",
       "    </tr>\n",
       "    <tr>\n",
       "      <td>1</td>\n",
       "      <td>79</td>\n",
       "      <td>23</td>\n",
       "      <td>1</td>\n",
       "      <td>9</td>\n",
       "      <td>0</td>\n",
       "      <td>2020-08-04 23:13:25</td>\n",
       "      <td>2020-08-04 23:13:25</td>\n",
       "    </tr>\n",
       "    <tr>\n",
       "      <td>2</td>\n",
       "      <td>82</td>\n",
       "      <td>22</td>\n",
       "      <td>3</td>\n",
       "      <td>2</td>\n",
       "      <td>0</td>\n",
       "      <td>2020-08-04 22:32:07</td>\n",
       "      <td>2020-08-04 22:32:07</td>\n",
       "    </tr>\n",
       "    <tr>\n",
       "      <td>3</td>\n",
       "      <td>83</td>\n",
       "      <td>44</td>\n",
       "      <td>0</td>\n",
       "      <td>18</td>\n",
       "      <td>0</td>\n",
       "      <td>2020-08-04 23:47:05</td>\n",
       "      <td>2020-08-04 23:47:05</td>\n",
       "    </tr>\n",
       "    <tr>\n",
       "      <td>4</td>\n",
       "      <td>116</td>\n",
       "      <td>23</td>\n",
       "      <td>0</td>\n",
       "      <td>27</td>\n",
       "      <td>0</td>\n",
       "      <td>2020-08-04 22:54:06</td>\n",
       "      <td>2020-08-04 22:54:06</td>\n",
       "    </tr>\n",
       "  </tbody>\n",
       "</table>\n",
       "</div>"
      ],
      "text/plain": [
       "   station_id  bikes_available  bikes_disabled  docks_available  \\\n",
       "0          72               20               0               35   \n",
       "1          79               23               1                9   \n",
       "2          82               22               3                2   \n",
       "3          83               44               0               18   \n",
       "4         116               23               0               27   \n",
       "\n",
       "   docks_disabled        time_reported         date_n_time  \n",
       "0               0  2020-08-04 23:13:12 2020-08-04 23:13:12  \n",
       "1               0  2020-08-04 23:13:25 2020-08-04 23:13:25  \n",
       "2               0  2020-08-04 22:32:07 2020-08-04 22:32:07  \n",
       "3               0  2020-08-04 23:47:05 2020-08-04 23:47:05  \n",
       "4               0  2020-08-04 22:54:06 2020-08-04 22:54:06  "
      ]
     },
     "execution_count": 3,
     "metadata": {},
     "output_type": "execute_result"
    }
   ],
   "source": [
    "#convert datetime to integer\n",
    "lsd['date_n_time'] = pd.to_datetime(lsd['time_reported'])\n",
    "lsd.head()\n"
   ]
  },
  {
   "cell_type": "code",
   "execution_count": 4,
   "metadata": {
    "slideshow": {
     "slide_type": "slide"
    }
   },
   "outputs": [
    {
     "data": {
      "text/html": [
       "<div>\n",
       "<style scoped>\n",
       "    .dataframe tbody tr th:only-of-type {\n",
       "        vertical-align: middle;\n",
       "    }\n",
       "\n",
       "    .dataframe tbody tr th {\n",
       "        vertical-align: top;\n",
       "    }\n",
       "\n",
       "    .dataframe thead th {\n",
       "        text-align: right;\n",
       "    }\n",
       "</style>\n",
       "<table border=\"1\" class=\"dataframe\">\n",
       "  <thead>\n",
       "    <tr style=\"text-align: right;\">\n",
       "      <th></th>\n",
       "      <th>station_id</th>\n",
       "      <th>bikes_available</th>\n",
       "      <th>bikes_disabled</th>\n",
       "      <th>docks_available</th>\n",
       "      <th>docks_disabled</th>\n",
       "      <th>date_n_time</th>\n",
       "    </tr>\n",
       "  </thead>\n",
       "  <tbody>\n",
       "    <tr>\n",
       "      <td>0</td>\n",
       "      <td>72</td>\n",
       "      <td>20</td>\n",
       "      <td>0</td>\n",
       "      <td>35</td>\n",
       "      <td>0</td>\n",
       "      <td>2020-08-04 23:13:12</td>\n",
       "    </tr>\n",
       "    <tr>\n",
       "      <td>1</td>\n",
       "      <td>79</td>\n",
       "      <td>23</td>\n",
       "      <td>1</td>\n",
       "      <td>9</td>\n",
       "      <td>0</td>\n",
       "      <td>2020-08-04 23:13:25</td>\n",
       "    </tr>\n",
       "    <tr>\n",
       "      <td>2</td>\n",
       "      <td>82</td>\n",
       "      <td>22</td>\n",
       "      <td>3</td>\n",
       "      <td>2</td>\n",
       "      <td>0</td>\n",
       "      <td>2020-08-04 22:32:07</td>\n",
       "    </tr>\n",
       "    <tr>\n",
       "      <td>3</td>\n",
       "      <td>83</td>\n",
       "      <td>44</td>\n",
       "      <td>0</td>\n",
       "      <td>18</td>\n",
       "      <td>0</td>\n",
       "      <td>2020-08-04 23:47:05</td>\n",
       "    </tr>\n",
       "    <tr>\n",
       "      <td>4</td>\n",
       "      <td>116</td>\n",
       "      <td>23</td>\n",
       "      <td>0</td>\n",
       "      <td>27</td>\n",
       "      <td>0</td>\n",
       "      <td>2020-08-04 22:54:06</td>\n",
       "    </tr>\n",
       "  </tbody>\n",
       "</table>\n",
       "</div>"
      ],
      "text/plain": [
       "   station_id  bikes_available  bikes_disabled  docks_available  \\\n",
       "0          72               20               0               35   \n",
       "1          79               23               1                9   \n",
       "2          82               22               3                2   \n",
       "3          83               44               0               18   \n",
       "4         116               23               0               27   \n",
       "\n",
       "   docks_disabled         date_n_time  \n",
       "0               0 2020-08-04 23:13:12  \n",
       "1               0 2020-08-04 23:13:25  \n",
       "2               0 2020-08-04 22:32:07  \n",
       "3               0 2020-08-04 23:47:05  \n",
       "4               0 2020-08-04 22:54:06  "
      ]
     },
     "execution_count": 4,
     "metadata": {},
     "output_type": "execute_result"
    }
   ],
   "source": [
    "bike_df = lsd.drop(['time_reported'],axis =1 )\n",
    "bike_df.head()\n"
   ]
  },
  {
   "cell_type": "code",
   "execution_count": null,
   "metadata": {
    "slideshow": {
     "slide_type": "fragment"
    }
   },
   "outputs": [],
   "source": [
    "def get_week(dt):\n",
    "    return dt.week\n",
    "bike_df['week'] = bike_df['date_n_time'].map(get_week)\n",
    "\n",
    "def get_dom(dt):\n",
    "    return dt.day\n",
    "bike_df['dom'] = bike_df['date_n_time'].map(get_dom)\n",
    "\n",
    "def get_weekday(dt):\n",
    "    return dt.weekday()\n",
    "\n",
    "bike_df['weekday'] = bike_df['date_n_time'].map(get_weekday)\n",
    "\n",
    "def get_hour(dt):\n",
    "    return dt.hour\n",
    "\n",
    "bike_df['hour'] = bike_df['date_n_time'].map(get_hour)"
   ]
  },
  {
   "cell_type": "code",
   "execution_count": null,
   "metadata": {
    "slideshow": {
     "slide_type": "fragment"
    }
   },
   "outputs": [],
   "source": [
    "bike_df.tail(10)"
   ]
  },
  {
   "cell_type": "markdown",
   "metadata": {},
   "source": [
    "## Finding clusters of maximum number of bike availability during a 24 hour Period"
   ]
  },
  {
   "cell_type": "code",
   "execution_count": null,
   "metadata": {},
   "outputs": [],
   "source": [
    "plt.scatter(bike_df['hour'],bike_df['bikes_available'])"
   ]
  },
  {
   "cell_type": "code",
   "execution_count": null,
   "metadata": {},
   "outputs": [],
   "source": [
    "km = KMeans(n_clusters = 24 )\n",
    "km"
   ]
  },
  {
   "cell_type": "code",
   "execution_count": null,
   "metadata": {},
   "outputs": [],
   "source": [
    "y_predicted = km.fit_predict(bike_df[['hour','bikes_available']])\n",
    "y_predicted\n",
    "np.unique(y_predicted)"
   ]
  },
  {
   "cell_type": "code",
   "execution_count": null,
   "metadata": {},
   "outputs": [],
   "source": [
    "bike_df['cluster'] = y_predicted\n",
    "bike_df.head()"
   ]
  },
  {
   "cell_type": "code",
   "execution_count": null,
   "metadata": {},
   "outputs": [],
   "source": [
    "cluster_1 = bike_df[bike_df.cluster == 0]\n",
    "cluster_2 = bike_df[bike_df.cluster == 1]\n",
    "cluster_3 = bike_df[bike_df.cluster == 2]\n",
    "cluster_4 = bike_df[bike_df.cluster == 3]\n",
    "cluster_5 = bike_df[bike_df.cluster == 4]\n",
    "cluster_6 = bike_df[bike_df.cluster == 5]\n",
    "cluster_7 = bike_df[bike_df.cluster == 6]\n",
    "cluster_8 = bike_df[bike_df.cluster == 7]\n",
    "cluster_9 = bike_df[bike_df.cluster == 8]\n",
    "cluster_10 = bike_df[bike_df.cluster == 9]\n",
    "cluster_11 = bike_df[bike_df.cluster == 10]\n",
    "cluster_12 = bike_df[bike_df.cluster == 11]\n",
    "cluster_13 = bike_df[bike_df.cluster == 12]\n",
    "cluster_14 = bike_df[bike_df.cluster == 13]\n",
    "cluster_15 = bike_df[bike_df.cluster == 14]\n",
    "cluster_16 = bike_df[bike_df.cluster == 15]\n",
    "cluster_17 = bike_df[bike_df.cluster == 16]\n",
    "cluster_18 = bike_df[bike_df.cluster == 17]\n",
    "cluster_19 = bike_df[bike_df.cluster == 18]\n",
    "cluster_20 = bike_df[bike_df.cluster == 19]\n",
    "cluster_21 = bike_df[bike_df.cluster == 20]\n",
    "cluster_22 = bike_df[bike_df.cluster == 21]\n",
    "cluster_23 = bike_df[bike_df.cluster == 22]\n",
    "cluster_24 = bike_df[bike_df.cluster == 23]\n",
    "\n",
    "\n",
    "plt.scatter(cluster_1.hour,cluster_1['bikes_available'],color = 'blue')\n",
    "plt.scatter(cluster_2.hour,cluster_2['bikes_available'],color = 'orange')\n",
    "plt.scatter(cluster_3.hour,cluster_3['bikes_available'],color = 'green')\n",
    "plt.scatter(cluster_4.hour,cluster_4['bikes_available'],color = 'red')\n",
    "plt.scatter(cluster_5.hour,cluster_5['bikes_available'],color = 'purple')\n",
    "plt.scatter(cluster_6.hour,cluster_6['bikes_available'],color = 'brown')\n",
    "plt.scatter(cluster_7.hour,cluster_7['bikes_available'],color = 'pink')\n",
    "plt.scatter(cluster_8.hour,cluster_8['bikes_available'],color = 'gray')\n",
    "plt.scatter(cluster_9.hour,cluster_9['bikes_available'],color = 'olive')\n",
    "plt.scatter(cluster_10.hour,cluster_10['bikes_available'],color = 'cyan')\n",
    "plt.scatter(cluster_11.hour,cluster_11['bikes_available'],color = 'orchid')\n",
    "plt.scatter(cluster_12.hour,cluster_12['bikes_available'],color = 'deepskyblue')\n",
    "plt.scatter(cluster_13.hour,cluster_13['bikes_available'],color = 'lawngreen')\n",
    "plt.scatter(cluster_14.hour,cluster_14['bikes_available'],color = 'lightcoral')\n",
    "plt.scatter(cluster_15.hour,cluster_15['bikes_available'],color = 'paleturquoise')\n",
    "plt.scatter(cluster_16.hour,cluster_16['bikes_available'],color = 'blueviolet')\n",
    "plt.scatter(cluster_17.hour,cluster_17['bikes_available'],color = 'mediumaquamarine')\n",
    "plt.scatter(cluster_18.hour,cluster_18['bikes_available'],color = 'slateblue')\n",
    "plt.scatter(cluster_19.hour,cluster_19['bikes_available'],color = 'fuchsia')\n",
    "plt.scatter(cluster_20.hour,cluster_20['bikes_available'],color = 'teal')\n",
    "plt.scatter(cluster_21.hour,cluster_21['bikes_available'],color = 'gold')\n",
    "plt.scatter(cluster_22.hour,cluster_22['bikes_available'],color = 'rosybrown')\n",
    "plt.scatter(cluster_23.hour,cluster_23['bikes_available'],color = 'dodgerblue')\n",
    "plt.scatter(cluster_24.hour,cluster_24['bikes_available'],color = 'lime')\n",
    "\n",
    "plt.xlabel('hour of the day')\n",
    "plt.ylabel('bikes_available')\n",
    "plt.legend()\n",
    "\n"
   ]
  },
  {
   "cell_type": "code",
   "execution_count": null,
   "metadata": {},
   "outputs": [],
   "source": [
    "from sklearn.preprocessing import MinMaxScaler\n",
    "\n"
   ]
  },
  {
   "cell_type": "code",
   "execution_count": null,
   "metadata": {},
   "outputs": [],
   "source": [
    "scaler = MinMaxScaler()\n",
    "scaler.fit(bike_df[['bikes_available']])\n",
    "bike_df['bikes_available'] = scaler.transform(bike_df[['bikes_available']])\n",
    "\n",
    "\n",
    "scaler.fit(bike_df[['hour']])\n",
    "bike_df['hour'] = scaler.transform(bike_df[['hour']])\n",
    "bike_df\n",
    "                   "
   ]
  },
  {
   "cell_type": "code",
   "execution_count": null,
   "metadata": {},
   "outputs": [],
   "source": [
    "km = KMeans(n_clusters = 24)\n",
    "y_predicted = km.fit_predict(bike_df[['hour','bikes_available']])\n",
    "y_predicted"
   ]
  },
  {
   "cell_type": "code",
   "execution_count": null,
   "metadata": {},
   "outputs": [],
   "source": [
    "bike_df['cluster'] = y_predicted\n",
    "bike_df"
   ]
  },
  {
   "cell_type": "code",
   "execution_count": null,
   "metadata": {},
   "outputs": [],
   "source": [
    "km.cluster_centers_"
   ]
  },
  {
   "cell_type": "code",
   "execution_count": null,
   "metadata": {},
   "outputs": [],
   "source": [
    "cluster_1 = bike_df[bike_df.cluster == 0]\n",
    "cluster_2 = bike_df[bike_df.cluster == 1]\n",
    "cluster_3 = bike_df[bike_df.cluster == 2]\n",
    "cluster_4 = bike_df[bike_df.cluster == 3]\n",
    "cluster_5 = bike_df[bike_df.cluster == 4]\n",
    "cluster_6 = bike_df[bike_df.cluster == 5]\n",
    "cluster_7 = bike_df[bike_df.cluster == 6]\n",
    "cluster_8 = bike_df[bike_df.cluster == 7]\n",
    "cluster_9 = bike_df[bike_df.cluster == 8]\n",
    "cluster_10 = bike_df[bike_df.cluster == 9]\n",
    "cluster_11 = bike_df[bike_df.cluster == 10]\n",
    "cluster_12 = bike_df[bike_df.cluster == 11]\n",
    "cluster_13 = bike_df[bike_df.cluster == 12]\n",
    "cluster_14 = bike_df[bike_df.cluster == 13]\n",
    "cluster_15 = bike_df[bike_df.cluster == 14]\n",
    "cluster_16 = bike_df[bike_df.cluster == 15]\n",
    "cluster_17 = bike_df[bike_df.cluster == 16]\n",
    "cluster_18 = bike_df[bike_df.cluster == 17]\n",
    "cluster_19 = bike_df[bike_df.cluster == 18]\n",
    "cluster_20 = bike_df[bike_df.cluster == 19]\n",
    "cluster_21 = bike_df[bike_df.cluster == 20]\n",
    "cluster_22 = bike_df[bike_df.cluster == 21]\n",
    "cluster_23 = bike_df[bike_df.cluster == 22]\n",
    "cluster_24 = bike_df[bike_df.cluster == 23]\n",
    "\n",
    "\n",
    "plt.scatter(cluster_1.hour,cluster_1['bikes_available'],color = 'blue')\n",
    "plt.scatter(cluster_2.hour,cluster_2['bikes_available'],color = 'orange')\n",
    "plt.scatter(cluster_3.hour,cluster_3['bikes_available'],color = 'green')\n",
    "plt.scatter(cluster_4.hour,cluster_4['bikes_available'],color = 'red')\n",
    "plt.scatter(cluster_5.hour,cluster_5['bikes_available'],color = 'purple')\n",
    "plt.scatter(cluster_6.hour,cluster_6['bikes_available'],color = 'brown')\n",
    "plt.scatter(cluster_7.hour,cluster_7['bikes_available'],color = 'pink')\n",
    "plt.scatter(cluster_8.hour,cluster_8['bikes_available'],color = 'gray')\n",
    "plt.scatter(cluster_9.hour,cluster_9['bikes_available'],color = 'olive')\n",
    "plt.scatter(cluster_10.hour,cluster_10['bikes_available'],color = 'cyan')\n",
    "plt.scatter(cluster_11.hour,cluster_11['bikes_available'],color = 'orchid')\n",
    "plt.scatter(cluster_12.hour,cluster_12['bikes_available'],color = 'deepskyblue')\n",
    "plt.scatter(cluster_13.hour,cluster_13['bikes_available'],color = 'lawngreen')\n",
    "plt.scatter(cluster_14.hour,cluster_14['bikes_available'],color = 'lightcoral')\n",
    "plt.scatter(cluster_15.hour,cluster_15['bikes_available'],color = 'paleturquoise')\n",
    "plt.scatter(cluster_16.hour,cluster_16['bikes_available'],color = 'blueviolet')\n",
    "plt.scatter(cluster_17.hour,cluster_17['bikes_available'],color = 'mediumaquamarine')\n",
    "plt.scatter(cluster_18.hour,cluster_18['bikes_available'],color = 'slateblue')\n",
    "plt.scatter(cluster_19.hour,cluster_19['bikes_available'],color = 'fuchsia')\n",
    "plt.scatter(cluster_20.hour,cluster_20['bikes_available'],color = 'teal')\n",
    "plt.scatter(cluster_21.hour,cluster_21['bikes_available'],color = 'gold')\n",
    "plt.scatter(cluster_22.hour,cluster_22['bikes_available'],color = 'rosybrown')\n",
    "plt.scatter(cluster_23.hour,cluster_23['bikes_available'],color = 'dodgerblue')\n",
    "plt.scatter(cluster_24.hour,cluster_24['bikes_available'],color = 'lime')\n",
    "\n",
    "plt.xlabel('hour of the day')\n",
    "plt.ylabel('bikes_available')\n",
    "plt.scatter(km.cluster_centers_[:,0],km.cluster_centers_[:,1],color = 'black',marker = '*',label = 'centroid')\n",
    "plt.legend()"
   ]
  },
  {
   "cell_type": "code",
   "execution_count": null,
   "metadata": {},
   "outputs": [],
   "source": [
    "k_range = range (1,24)\n",
    "SSE = []\n",
    "\n",
    "for k in k_range:\n",
    "    km = KMeans(n_clusters = k)\n",
    "    km.fit(bike_df[['hour','bikes_available']])\n",
    "    SSE.append(km.inertia_)"
   ]
  },
  {
   "cell_type": "code",
   "execution_count": null,
   "metadata": {},
   "outputs": [],
   "source": [
    "SSE"
   ]
  },
  {
   "cell_type": "code",
   "execution_count": null,
   "metadata": {},
   "outputs": [],
   "source": [
    "plt.xlabel('K')\n",
    "plt.ylabel('Sum of Squared error')\n",
    "\n",
    "plt.plot(k_range,SSE, linestyle='--', marker='*', color='green')"
   ]
  },
  {
   "cell_type": "markdown",
   "metadata": {},
   "source": [
    "## Linear Regression"
   ]
  },
  {
   "cell_type": "code",
   "execution_count": null,
   "metadata": {},
   "outputs": [],
   "source": [
    "bike_df = lsd.drop(['time_reported'],axis =1 )\n"
   ]
  },
  {
   "cell_type": "code",
   "execution_count": 5,
   "metadata": {},
   "outputs": [],
   "source": [
    "def get_week(dt):\n",
    "    return dt.week\n",
    "bike_df['week'] = bike_df['date_n_time'].map(get_week)\n",
    "\n",
    "def get_dom(dt):\n",
    "    return dt.day\n",
    "bike_df['dom'] = bike_df['date_n_time'].map(get_dom)\n",
    "\n",
    "def get_weekday(dt):\n",
    "    return dt.weekday()\n",
    "\n",
    "bike_df['weekday'] = bike_df['date_n_time'].map(get_weekday)\n",
    "\n",
    "def get_hour(dt):\n",
    "    return dt.hour\n",
    "\n",
    "bike_df['hour'] = bike_df['date_n_time'].map(get_hour)"
   ]
  },
  {
   "cell_type": "code",
   "execution_count": 6,
   "metadata": {},
   "outputs": [
    {
     "data": {
      "text/html": [
       "<div>\n",
       "<style scoped>\n",
       "    .dataframe tbody tr th:only-of-type {\n",
       "        vertical-align: middle;\n",
       "    }\n",
       "\n",
       "    .dataframe tbody tr th {\n",
       "        vertical-align: top;\n",
       "    }\n",
       "\n",
       "    .dataframe thead th {\n",
       "        text-align: right;\n",
       "    }\n",
       "</style>\n",
       "<table border=\"1\" class=\"dataframe\">\n",
       "  <thead>\n",
       "    <tr style=\"text-align: right;\">\n",
       "      <th></th>\n",
       "      <th>station_id</th>\n",
       "      <th>bikes_available</th>\n",
       "      <th>bikes_disabled</th>\n",
       "      <th>docks_available</th>\n",
       "      <th>docks_disabled</th>\n",
       "      <th>date_n_time</th>\n",
       "      <th>week</th>\n",
       "      <th>dom</th>\n",
       "      <th>weekday</th>\n",
       "      <th>hour</th>\n",
       "    </tr>\n",
       "  </thead>\n",
       "  <tbody>\n",
       "    <tr>\n",
       "      <td>0</td>\n",
       "      <td>72</td>\n",
       "      <td>20</td>\n",
       "      <td>0</td>\n",
       "      <td>35</td>\n",
       "      <td>0</td>\n",
       "      <td>2020-08-04 23:13:12</td>\n",
       "      <td>32</td>\n",
       "      <td>4</td>\n",
       "      <td>1</td>\n",
       "      <td>23</td>\n",
       "    </tr>\n",
       "    <tr>\n",
       "      <td>1</td>\n",
       "      <td>79</td>\n",
       "      <td>23</td>\n",
       "      <td>1</td>\n",
       "      <td>9</td>\n",
       "      <td>0</td>\n",
       "      <td>2020-08-04 23:13:25</td>\n",
       "      <td>32</td>\n",
       "      <td>4</td>\n",
       "      <td>1</td>\n",
       "      <td>23</td>\n",
       "    </tr>\n",
       "    <tr>\n",
       "      <td>2</td>\n",
       "      <td>82</td>\n",
       "      <td>22</td>\n",
       "      <td>3</td>\n",
       "      <td>2</td>\n",
       "      <td>0</td>\n",
       "      <td>2020-08-04 22:32:07</td>\n",
       "      <td>32</td>\n",
       "      <td>4</td>\n",
       "      <td>1</td>\n",
       "      <td>22</td>\n",
       "    </tr>\n",
       "    <tr>\n",
       "      <td>3</td>\n",
       "      <td>83</td>\n",
       "      <td>44</td>\n",
       "      <td>0</td>\n",
       "      <td>18</td>\n",
       "      <td>0</td>\n",
       "      <td>2020-08-04 23:47:05</td>\n",
       "      <td>32</td>\n",
       "      <td>4</td>\n",
       "      <td>1</td>\n",
       "      <td>23</td>\n",
       "    </tr>\n",
       "    <tr>\n",
       "      <td>4</td>\n",
       "      <td>116</td>\n",
       "      <td>23</td>\n",
       "      <td>0</td>\n",
       "      <td>27</td>\n",
       "      <td>0</td>\n",
       "      <td>2020-08-04 22:54:06</td>\n",
       "      <td>32</td>\n",
       "      <td>4</td>\n",
       "      <td>1</td>\n",
       "      <td>22</td>\n",
       "    </tr>\n",
       "    <tr>\n",
       "      <td>...</td>\n",
       "      <td>...</td>\n",
       "      <td>...</td>\n",
       "      <td>...</td>\n",
       "      <td>...</td>\n",
       "      <td>...</td>\n",
       "      <td>...</td>\n",
       "      <td>...</td>\n",
       "      <td>...</td>\n",
       "      <td>...</td>\n",
       "      <td>...</td>\n",
       "    </tr>\n",
       "    <tr>\n",
       "      <td>151637</td>\n",
       "      <td>4054</td>\n",
       "      <td>2</td>\n",
       "      <td>0</td>\n",
       "      <td>17</td>\n",
       "      <td>0</td>\n",
       "      <td>2020-08-05 17:37:59</td>\n",
       "      <td>32</td>\n",
       "      <td>5</td>\n",
       "      <td>2</td>\n",
       "      <td>17</td>\n",
       "    </tr>\n",
       "    <tr>\n",
       "      <td>151638</td>\n",
       "      <td>4058</td>\n",
       "      <td>1</td>\n",
       "      <td>0</td>\n",
       "      <td>40</td>\n",
       "      <td>0</td>\n",
       "      <td>2020-08-05 23:36:02</td>\n",
       "      <td>32</td>\n",
       "      <td>5</td>\n",
       "      <td>2</td>\n",
       "      <td>23</td>\n",
       "    </tr>\n",
       "    <tr>\n",
       "      <td>151639</td>\n",
       "      <td>4064</td>\n",
       "      <td>12</td>\n",
       "      <td>0</td>\n",
       "      <td>11</td>\n",
       "      <td>0</td>\n",
       "      <td>2020-08-05 15:13:55</td>\n",
       "      <td>32</td>\n",
       "      <td>5</td>\n",
       "      <td>2</td>\n",
       "      <td>15</td>\n",
       "    </tr>\n",
       "    <tr>\n",
       "      <td>151640</td>\n",
       "      <td>4072</td>\n",
       "      <td>0</td>\n",
       "      <td>2</td>\n",
       "      <td>42</td>\n",
       "      <td>0</td>\n",
       "      <td>2020-08-05 16:47:01</td>\n",
       "      <td>32</td>\n",
       "      <td>5</td>\n",
       "      <td>2</td>\n",
       "      <td>16</td>\n",
       "    </tr>\n",
       "    <tr>\n",
       "      <td>151641</td>\n",
       "      <td>4073</td>\n",
       "      <td>0</td>\n",
       "      <td>1</td>\n",
       "      <td>34</td>\n",
       "      <td>0</td>\n",
       "      <td>2020-08-05 16:44:09</td>\n",
       "      <td>32</td>\n",
       "      <td>5</td>\n",
       "      <td>2</td>\n",
       "      <td>16</td>\n",
       "    </tr>\n",
       "  </tbody>\n",
       "</table>\n",
       "<p>151642 rows × 10 columns</p>\n",
       "</div>"
      ],
      "text/plain": [
       "        station_id  bikes_available  bikes_disabled  docks_available  \\\n",
       "0               72               20               0               35   \n",
       "1               79               23               1                9   \n",
       "2               82               22               3                2   \n",
       "3               83               44               0               18   \n",
       "4              116               23               0               27   \n",
       "...            ...              ...             ...              ...   \n",
       "151637        4054                2               0               17   \n",
       "151638        4058                1               0               40   \n",
       "151639        4064               12               0               11   \n",
       "151640        4072                0               2               42   \n",
       "151641        4073                0               1               34   \n",
       "\n",
       "        docks_disabled         date_n_time  week  dom  weekday  hour  \n",
       "0                    0 2020-08-04 23:13:12    32    4        1    23  \n",
       "1                    0 2020-08-04 23:13:25    32    4        1    23  \n",
       "2                    0 2020-08-04 22:32:07    32    4        1    22  \n",
       "3                    0 2020-08-04 23:47:05    32    4        1    23  \n",
       "4                    0 2020-08-04 22:54:06    32    4        1    22  \n",
       "...                ...                 ...   ...  ...      ...   ...  \n",
       "151637               0 2020-08-05 17:37:59    32    5        2    17  \n",
       "151638               0 2020-08-05 23:36:02    32    5        2    23  \n",
       "151639               0 2020-08-05 15:13:55    32    5        2    15  \n",
       "151640               0 2020-08-05 16:47:01    32    5        2    16  \n",
       "151641               0 2020-08-05 16:44:09    32    5        2    16  \n",
       "\n",
       "[151642 rows x 10 columns]"
      ]
     },
     "execution_count": 6,
     "metadata": {},
     "output_type": "execute_result"
    }
   ],
   "source": [
    "bike_df"
   ]
  },
  {
   "cell_type": "code",
   "execution_count": 7,
   "metadata": {},
   "outputs": [
    {
     "data": {
      "text/plain": [
       "Text(0, 0.5, 'Bikes_Available')"
      ]
     },
     "execution_count": 7,
     "metadata": {},
     "output_type": "execute_result"
    },
    {
     "data": {
      "image/png": "[encoded data removed]",
      "text/plain": [
       "<Figure size 432x288 with 1 Axes>"
      ]
     },
     "metadata": {
      "needs_background": "light"
     },
     "output_type": "display_data"
    }
   ],
   "source": [
    "plt.scatter(bike_df.hour,bike_df.bikes_available,color = 'red',marker = '+')\n",
    "plt.xlabel('Hour of the day')\n",
    "plt.ylabel('Bikes_Available')"
   ]
  },
  {
   "cell_type": "code",
   "execution_count": 8,
   "metadata": {},
   "outputs": [
    {
     "data": {
      "text/plain": [
       "LinearRegression(copy_X=True, fit_intercept=True, n_jobs=None, normalize=False)"
      ]
     },
     "execution_count": 8,
     "metadata": {},
     "output_type": "execute_result"
    }
   ],
   "source": [
    "from sklearn import linear_model\n",
    "reg = linear_model.LinearRegression()\n",
    "reg.fit(bike_df[['hour','weekday','dom']],bike_df.bikes_available)\n"
   ]
  },
  {
   "cell_type": "code",
   "execution_count": 9,
   "metadata": {},
   "outputs": [
    {
     "data": {
      "text/plain": [
       "array([15.26311672])"
      ]
     },
     "execution_count": 9,
     "metadata": {},
     "output_type": "execute_result"
    }
   ],
   "source": [
    "reg.predict([[22,1,4]])"
   ]
  },
  {
   "cell_type": "code",
   "execution_count": 10,
   "metadata": {},
   "outputs": [
    {
     "data": {
      "text/plain": [
       "array([-0.05345773, -3.63413126,  0.46890408])"
      ]
     },
     "execution_count": 10,
     "metadata": {},
     "output_type": "execute_result"
    }
   ],
   "source": [
    "reg.coef_"
   ]
  },
  {
   "cell_type": "code",
   "execution_count": 11,
   "metadata": {},
   "outputs": [
    {
     "data": {
      "text/plain": [
       "18.197701743499206"
      ]
     },
     "execution_count": 11,
     "metadata": {},
     "output_type": "execute_result"
    }
   ],
   "source": [
    "reg.intercept_"
   ]
  },
  {
   "cell_type": "code",
   "execution_count": 12,
   "metadata": {},
   "outputs": [
    {
     "data": {
      "text/plain": [
       "15.263116743499205"
      ]
     },
     "execution_count": 12,
     "metadata": {},
     "output_type": "execute_result"
    }
   ],
   "source": [
    "-0.05345773*22 + -3.63413126 * 1 +  0.46890408 * 4 + 18.197701743499206"
   ]
  },
  {
   "cell_type": "code",
   "execution_count": 13,
   "metadata": {},
   "outputs": [
    {
     "data": {
      "text/html": [
       "<div>\n",
       "<style scoped>\n",
       "    .dataframe tbody tr th:only-of-type {\n",
       "        vertical-align: middle;\n",
       "    }\n",
       "\n",
       "    .dataframe tbody tr th {\n",
       "        vertical-align: top;\n",
       "    }\n",
       "\n",
       "    .dataframe thead th {\n",
       "        text-align: right;\n",
       "    }\n",
       "</style>\n",
       "<table border=\"1\" class=\"dataframe\">\n",
       "  <thead>\n",
       "    <tr style=\"text-align: right;\">\n",
       "      <th></th>\n",
       "      <th>hour</th>\n",
       "      <th>weekday</th>\n",
       "      <th>dom</th>\n",
       "    </tr>\n",
       "  </thead>\n",
       "  <tbody>\n",
       "    <tr>\n",
       "      <td>0</td>\n",
       "      <td>23</td>\n",
       "      <td>1</td>\n",
       "      <td>4</td>\n",
       "    </tr>\n",
       "    <tr>\n",
       "      <td>1</td>\n",
       "      <td>23</td>\n",
       "      <td>1</td>\n",
       "      <td>4</td>\n",
       "    </tr>\n",
       "    <tr>\n",
       "      <td>2</td>\n",
       "      <td>22</td>\n",
       "      <td>1</td>\n",
       "      <td>4</td>\n",
       "    </tr>\n",
       "    <tr>\n",
       "      <td>3</td>\n",
       "      <td>23</td>\n",
       "      <td>1</td>\n",
       "      <td>4</td>\n",
       "    </tr>\n",
       "    <tr>\n",
       "      <td>4</td>\n",
       "      <td>22</td>\n",
       "      <td>1</td>\n",
       "      <td>4</td>\n",
       "    </tr>\n",
       "  </tbody>\n",
       "</table>\n",
       "</div>"
      ],
      "text/plain": [
       "   hour  weekday  dom\n",
       "0    23        1    4\n",
       "1    23        1    4\n",
       "2    22        1    4\n",
       "3    23        1    4\n",
       "4    22        1    4"
      ]
     },
     "execution_count": 13,
     "metadata": {},
     "output_type": "execute_result"
    }
   ],
   "source": [
    "#hours = bike_df.hour.unique()\n",
    "#hours_list = hours.tolist()\n",
    "#hours_list\n",
    "data_to_predict = bike_df[['hour','weekday','dom']]\n",
    "data_to_predict.head()\n"
   ]
  },
  {
   "cell_type": "code",
   "execution_count": 15,
   "metadata": {},
   "outputs": [],
   "source": [
    "bikes_ready = reg.predict(data_to_predict)\n",
    "predicted_bikes = bikes_ready.tolist()\n"
   ]
  },
  {
   "cell_type": "code",
   "execution_count": 16,
   "metadata": {},
   "outputs": [
    {
     "data": {
      "text/html": [
       "<div>\n",
       "<style scoped>\n",
       "    .dataframe tbody tr th:only-of-type {\n",
       "        vertical-align: middle;\n",
       "    }\n",
       "\n",
       "    .dataframe tbody tr th {\n",
       "        vertical-align: top;\n",
       "    }\n",
       "\n",
       "    .dataframe thead th {\n",
       "        text-align: right;\n",
       "    }\n",
       "</style>\n",
       "<table border=\"1\" class=\"dataframe\">\n",
       "  <thead>\n",
       "    <tr style=\"text-align: right;\">\n",
       "      <th></th>\n",
       "      <th>hour</th>\n",
       "      <th>weekday</th>\n",
       "      <th>dom</th>\n",
       "      <th>predicted_bikes</th>\n",
       "    </tr>\n",
       "  </thead>\n",
       "  <tbody>\n",
       "    <tr>\n",
       "      <td>0</td>\n",
       "      <td>23</td>\n",
       "      <td>1</td>\n",
       "      <td>4</td>\n",
       "      <td>15.209659</td>\n",
       "    </tr>\n",
       "    <tr>\n",
       "      <td>1</td>\n",
       "      <td>23</td>\n",
       "      <td>1</td>\n",
       "      <td>4</td>\n",
       "      <td>15.209659</td>\n",
       "    </tr>\n",
       "    <tr>\n",
       "      <td>2</td>\n",
       "      <td>22</td>\n",
       "      <td>1</td>\n",
       "      <td>4</td>\n",
       "      <td>15.263117</td>\n",
       "    </tr>\n",
       "    <tr>\n",
       "      <td>3</td>\n",
       "      <td>23</td>\n",
       "      <td>1</td>\n",
       "      <td>4</td>\n",
       "      <td>15.209659</td>\n",
       "    </tr>\n",
       "    <tr>\n",
       "      <td>4</td>\n",
       "      <td>22</td>\n",
       "      <td>1</td>\n",
       "      <td>4</td>\n",
       "      <td>15.263117</td>\n",
       "    </tr>\n",
       "    <tr>\n",
       "      <td>...</td>\n",
       "      <td>...</td>\n",
       "      <td>...</td>\n",
       "      <td>...</td>\n",
       "      <td>...</td>\n",
       "    </tr>\n",
       "    <tr>\n",
       "      <td>151637</td>\n",
       "      <td>17</td>\n",
       "      <td>2</td>\n",
       "      <td>5</td>\n",
       "      <td>12.365178</td>\n",
       "    </tr>\n",
       "    <tr>\n",
       "      <td>151638</td>\n",
       "      <td>23</td>\n",
       "      <td>2</td>\n",
       "      <td>5</td>\n",
       "      <td>12.044432</td>\n",
       "    </tr>\n",
       "    <tr>\n",
       "      <td>151639</td>\n",
       "      <td>15</td>\n",
       "      <td>2</td>\n",
       "      <td>5</td>\n",
       "      <td>12.472094</td>\n",
       "    </tr>\n",
       "    <tr>\n",
       "      <td>151640</td>\n",
       "      <td>16</td>\n",
       "      <td>2</td>\n",
       "      <td>5</td>\n",
       "      <td>12.418636</td>\n",
       "    </tr>\n",
       "    <tr>\n",
       "      <td>151641</td>\n",
       "      <td>16</td>\n",
       "      <td>2</td>\n",
       "      <td>5</td>\n",
       "      <td>12.418636</td>\n",
       "    </tr>\n",
       "  </tbody>\n",
       "</table>\n",
       "<p>151642 rows × 4 columns</p>\n",
       "</div>"
      ],
      "text/plain": [
       "        hour  weekday  dom  predicted_bikes\n",
       "0         23        1    4        15.209659\n",
       "1         23        1    4        15.209659\n",
       "2         22        1    4        15.263117\n",
       "3         23        1    4        15.209659\n",
       "4         22        1    4        15.263117\n",
       "...      ...      ...  ...              ...\n",
       "151637    17        2    5        12.365178\n",
       "151638    23        2    5        12.044432\n",
       "151639    15        2    5        12.472094\n",
       "151640    16        2    5        12.418636\n",
       "151641    16        2    5        12.418636\n",
       "\n",
       "[151642 rows x 4 columns]"
      ]
     },
     "execution_count": 16,
     "metadata": {},
     "output_type": "execute_result"
    }
   ],
   "source": [
    "data_to_predict['predicted_bikes'] = predicted_bikes\n",
    "data_to_predict"
   ]
  },
  {
   "cell_type": "code",
   "execution_count": 17,
   "metadata": {},
   "outputs": [],
   "source": [
    "data_to_predict.to_csv(\"predictedbikes.csv\",index = False)"
   ]
  },
  {
   "cell_type": "code",
   "execution_count": 18,
   "metadata": {},
   "outputs": [
    {
     "ename": "ValueError",
     "evalue": "shapes (151642,1) and (3,) not aligned: 1 (dim 1) != 3 (dim 0)",
     "output_type": "error",
     "traceback": [
      "\u001b[1;31m---------------------------------------------------------------------------\u001b[0m",
      "\u001b[1;31mValueError\u001b[0m                                Traceback (most recent call last)",
      "\u001b[1;32m<ipython-input-18-365457c25265>\u001b[0m in \u001b[0;36m<module>\u001b[1;34m\u001b[0m\n\u001b[0;32m      2\u001b[0m \u001b[0mplt\u001b[0m\u001b[1;33m.\u001b[0m\u001b[0mylabel\u001b[0m\u001b[1;33m(\u001b[0m\u001b[1;34m'Bikes Available'\u001b[0m\u001b[1;33m,\u001b[0m\u001b[0mfontsize\u001b[0m \u001b[1;33m=\u001b[0m \u001b[1;36m20\u001b[0m\u001b[1;33m)\u001b[0m\u001b[1;33m\u001b[0m\u001b[1;33m\u001b[0m\u001b[0m\n\u001b[0;32m      3\u001b[0m \u001b[0mplt\u001b[0m\u001b[1;33m.\u001b[0m\u001b[0mscatter\u001b[0m\u001b[1;33m(\u001b[0m\u001b[0mbike_df\u001b[0m\u001b[1;33m.\u001b[0m\u001b[0mhour\u001b[0m\u001b[1;33m,\u001b[0m\u001b[0mbike_df\u001b[0m\u001b[1;33m.\u001b[0m\u001b[0mbikes_available\u001b[0m\u001b[1;33m,\u001b[0m\u001b[0mcolor\u001b[0m \u001b[1;33m=\u001b[0m \u001b[1;34m'red'\u001b[0m\u001b[1;33m,\u001b[0m\u001b[0mmarker\u001b[0m \u001b[1;33m=\u001b[0m \u001b[1;34m'+'\u001b[0m\u001b[1;33m)\u001b[0m\u001b[1;33m\u001b[0m\u001b[1;33m\u001b[0m\u001b[0m\n\u001b[1;32m----> 4\u001b[1;33m \u001b[0mplt\u001b[0m\u001b[1;33m.\u001b[0m\u001b[0mplot\u001b[0m\u001b[1;33m(\u001b[0m\u001b[0mbike_df\u001b[0m\u001b[1;33m.\u001b[0m\u001b[0mhour\u001b[0m\u001b[1;33m,\u001b[0m\u001b[0mreg\u001b[0m\u001b[1;33m.\u001b[0m\u001b[0mpredict\u001b[0m\u001b[1;33m(\u001b[0m\u001b[0mbike_df\u001b[0m\u001b[1;33m[\u001b[0m\u001b[1;33m[\u001b[0m\u001b[1;34m'hour'\u001b[0m\u001b[1;33m]\u001b[0m\u001b[1;33m]\u001b[0m\u001b[1;33m)\u001b[0m\u001b[1;33m,\u001b[0m \u001b[0mcolor\u001b[0m \u001b[1;33m=\u001b[0m \u001b[1;34m'blue'\u001b[0m\u001b[1;33m)\u001b[0m\u001b[1;33m\u001b[0m\u001b[1;33m\u001b[0m\u001b[0m\n\u001b[0m",
      "\u001b[1;32m~\\Anaconda3\\lib\\site-packages\\sklearn\\linear_model\\base.py\u001b[0m in \u001b[0;36mpredict\u001b[1;34m(self, X)\u001b[0m\n\u001b[0;32m    219\u001b[0m             \u001b[0mReturns\u001b[0m \u001b[0mpredicted\u001b[0m \u001b[0mvalues\u001b[0m\u001b[1;33m.\u001b[0m\u001b[1;33m\u001b[0m\u001b[1;33m\u001b[0m\u001b[0m\n\u001b[0;32m    220\u001b[0m         \"\"\"\n\u001b[1;32m--> 221\u001b[1;33m         \u001b[1;32mreturn\u001b[0m \u001b[0mself\u001b[0m\u001b[1;33m.\u001b[0m\u001b[0m_decision_function\u001b[0m\u001b[1;33m(\u001b[0m\u001b[0mX\u001b[0m\u001b[1;33m)\u001b[0m\u001b[1;33m\u001b[0m\u001b[1;33m\u001b[0m\u001b[0m\n\u001b[0m\u001b[0;32m    222\u001b[0m \u001b[1;33m\u001b[0m\u001b[0m\n\u001b[0;32m    223\u001b[0m     \u001b[0m_preprocess_data\u001b[0m \u001b[1;33m=\u001b[0m \u001b[0mstaticmethod\u001b[0m\u001b[1;33m(\u001b[0m\u001b[0m_preprocess_data\u001b[0m\u001b[1;33m)\u001b[0m\u001b[1;33m\u001b[0m\u001b[1;33m\u001b[0m\u001b[0m\n",
      "\u001b[1;32m~\\Anaconda3\\lib\\site-packages\\sklearn\\linear_model\\base.py\u001b[0m in \u001b[0;36m_decision_function\u001b[1;34m(self, X)\u001b[0m\n\u001b[0;32m    204\u001b[0m         \u001b[0mX\u001b[0m \u001b[1;33m=\u001b[0m \u001b[0mcheck_array\u001b[0m\u001b[1;33m(\u001b[0m\u001b[0mX\u001b[0m\u001b[1;33m,\u001b[0m \u001b[0maccept_sparse\u001b[0m\u001b[1;33m=\u001b[0m\u001b[1;33m[\u001b[0m\u001b[1;34m'csr'\u001b[0m\u001b[1;33m,\u001b[0m \u001b[1;34m'csc'\u001b[0m\u001b[1;33m,\u001b[0m \u001b[1;34m'coo'\u001b[0m\u001b[1;33m]\u001b[0m\u001b[1;33m)\u001b[0m\u001b[1;33m\u001b[0m\u001b[1;33m\u001b[0m\u001b[0m\n\u001b[0;32m    205\u001b[0m         return safe_sparse_dot(X, self.coef_.T,\n\u001b[1;32m--> 206\u001b[1;33m                                dense_output=True) + self.intercept_\n\u001b[0m\u001b[0;32m    207\u001b[0m \u001b[1;33m\u001b[0m\u001b[0m\n\u001b[0;32m    208\u001b[0m     \u001b[1;32mdef\u001b[0m \u001b[0mpredict\u001b[0m\u001b[1;33m(\u001b[0m\u001b[0mself\u001b[0m\u001b[1;33m,\u001b[0m \u001b[0mX\u001b[0m\u001b[1;33m)\u001b[0m\u001b[1;33m:\u001b[0m\u001b[1;33m\u001b[0m\u001b[1;33m\u001b[0m\u001b[0m\n",
      "\u001b[1;32m~\\Anaconda3\\lib\\site-packages\\sklearn\\utils\\extmath.py\u001b[0m in \u001b[0;36msafe_sparse_dot\u001b[1;34m(a, b, dense_output)\u001b[0m\n\u001b[0;32m    140\u001b[0m         \u001b[1;32mreturn\u001b[0m \u001b[0mret\u001b[0m\u001b[1;33m\u001b[0m\u001b[1;33m\u001b[0m\u001b[0m\n\u001b[0;32m    141\u001b[0m     \u001b[1;32melse\u001b[0m\u001b[1;33m:\u001b[0m\u001b[1;33m\u001b[0m\u001b[1;33m\u001b[0m\u001b[0m\n\u001b[1;32m--> 142\u001b[1;33m         \u001b[1;32mreturn\u001b[0m \u001b[0mnp\u001b[0m\u001b[1;33m.\u001b[0m\u001b[0mdot\u001b[0m\u001b[1;33m(\u001b[0m\u001b[0ma\u001b[0m\u001b[1;33m,\u001b[0m \u001b[0mb\u001b[0m\u001b[1;33m)\u001b[0m\u001b[1;33m\u001b[0m\u001b[1;33m\u001b[0m\u001b[0m\n\u001b[0m\u001b[0;32m    143\u001b[0m \u001b[1;33m\u001b[0m\u001b[0m\n\u001b[0;32m    144\u001b[0m \u001b[1;33m\u001b[0m\u001b[0m\n",
      "\u001b[1;31mValueError\u001b[0m: shapes (151642,1) and (3,) not aligned: 1 (dim 1) != 3 (dim 0)"
     ]
    },
    {
     "data": {
      "image/png": "[encoded data removed]",
      "text/plain": [
       "<Figure size 432x288 with 1 Axes>"
      ]
     },
     "metadata": {
      "needs_background": "light"
     },
     "output_type": "display_data"
    }
   ],
   "source": [
    "plt.xlabel('hour', fontsize = 20)\n",
    "plt.ylabel('Bikes Available',fontsize = 20)\n",
    "plt.scatter(bike_df.hour,bike_df.bikes_available,color = 'red',marker = '+')\n",
    "plt.plot(bike_df.hour,reg.predict(bike_df[['hour']]), color = 'blue')"
   ]
  },
  {
   "cell_type": "code",
   "execution_count": null,
   "metadata": {},
   "outputs": [],
   "source": []
  }
 ],
 "metadata": {
  "kernelspec": {
   "display_name": "PythonData",
   "language": "python",
   "name": "pythondata"
  },
  "language_info": {
   "codemirror_mode": {
    "name": "ipython",
    "version": 3
   },
   "file_extension": ".py",
   "mimetype": "text/x-python",
   "name": "python",
   "nbconvert_exporter": "python",
   "pygments_lexer": "ipython3",
   "version": "3.7.4"
  }
 },
 "nbformat": 4,
 "nbformat_minor": 4
}
